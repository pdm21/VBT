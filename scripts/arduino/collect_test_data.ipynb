{
 "cells": [
  {
   "cell_type": "code",
   "execution_count": 1,
   "id": "7a6c4041-2e43-4aea-98c4-1cc8b498f118",
   "metadata": {},
   "outputs": [],
   "source": [
    "import socket\n",
    "import time\n",
    "import struct\n",
    "import pandas as pd\n",
    "import numpy as np\n",
    "import matplotlib.pyplot as plt"
   ]
  },
  {
   "cell_type": "code",
   "execution_count": 2,
   "id": "2578da83-cbd6-4c14-b3a7-f470b7ee5692",
   "metadata": {},
   "outputs": [],
   "source": [
    "def recv_n_bytes(s, n):\n",
    "    buffer = bytearray()\n",
    "    while len(buffer) < n:\n",
    "        data = s.recv(n - len(buffer))\n",
    "        if not data:\n",
    "            if len(buffer) > 0:\n",
    "                return buffer\n",
    "            return None\n",
    "        buffer.extend(data)\n",
    "    return buffer"
   ]
  },
  {
   "cell_type": "code",
   "execution_count": 15,
   "id": "255ce0bc-bda4-45c5-9fd5-ec136e13aeff",
   "metadata": {},
   "outputs": [],
   "source": [
    "dps = []"
   ]
  },
  {
   "cell_type": "code",
   "execution_count": 16,
   "id": "97501dda-1c36-4699-942d-a17dd1cf1dde",
   "metadata": {
    "scrolled": true
   },
   "outputs": [
    {
     "name": "stdout",
     "output_type": "stream",
     "text": [
      "Listening on 192.168.0.102:12345...\n",
      "Connection from ('192.168.0.150', 56527)\n"
     ]
    }
   ],
   "source": [
    "host = \"192.168.0.102\"\n",
    "port = 12345\n",
    "\n",
    "server = socket.socket(socket.AF_INET, socket.SOCK_STREAM)\n",
    "server.bind((host, port))\n",
    "server.listen(1)\n",
    "\n",
    "print(f\"Listening on {host}:{port}...\")\n",
    "\n",
    "client_socket, client_address = server.accept()\n",
    "print(f\"Connection from {client_address}\")\n",
    "\n",
    "start = time.time()\n",
    "while time.time() - start < 60:\n",
    "    data = recv_n_bytes(client_socket, 24)\n",
    "    dps.append(struct.unpack('ffffff', data))\n",
    "    # for i in range(0,600,24):\n",
    "    #     dps.append(struct.unpack('ffffff', data[i:i+24]))\n",
    "\n",
    "client_socket.close()\n",
    "server.close()"
   ]
  },
  {
   "cell_type": "code",
   "execution_count": 17,
   "id": "eb42eee1-334a-48cf-be45-31a1bc1c9372",
   "metadata": {},
   "outputs": [
    {
     "data": {
      "text/plain": [
       "6000.0"
      ]
     },
     "execution_count": 17,
     "metadata": {},
     "output_type": "execute_result"
    }
   ],
   "source": [
    "1000 / 10 * 60"
   ]
  },
  {
   "cell_type": "code",
   "execution_count": 18,
   "id": "fa6c18cc-0a26-49f9-aea6-dcadff82a260",
   "metadata": {},
   "outputs": [],
   "source": [
    "df = pd.DataFrame(dps, columns=['acc_x', 'acc_y', 'acc_z', 'gyr_x', 'gyr_y', 'gry_z'])"
   ]
  },
  {
   "cell_type": "code",
   "execution_count": 19,
   "id": "7ab34e05-4849-4e47-b21f-b2d1f5e5baab",
   "metadata": {},
   "outputs": [
    {
     "data": {
      "text/html": [
       "<div>\n",
       "<style scoped>\n",
       "    .dataframe tbody tr th:only-of-type {\n",
       "        vertical-align: middle;\n",
       "    }\n",
       "\n",
       "    .dataframe tbody tr th {\n",
       "        vertical-align: top;\n",
       "    }\n",
       "\n",
       "    .dataframe thead th {\n",
       "        text-align: right;\n",
       "    }\n",
       "</style>\n",
       "<table border=\"1\" class=\"dataframe\">\n",
       "  <thead>\n",
       "    <tr style=\"text-align: right;\">\n",
       "      <th></th>\n",
       "      <th>acc_x</th>\n",
       "      <th>acc_y</th>\n",
       "      <th>acc_z</th>\n",
       "      <th>gyr_x</th>\n",
       "      <th>gyr_y</th>\n",
       "      <th>gry_z</th>\n",
       "    </tr>\n",
       "  </thead>\n",
       "  <tbody>\n",
       "    <tr>\n",
       "      <th>0</th>\n",
       "      <td>-0.712280</td>\n",
       "      <td>0.466064</td>\n",
       "      <td>0.531250</td>\n",
       "      <td>0.000000</td>\n",
       "      <td>-0.183105</td>\n",
       "      <td>0.671387</td>\n",
       "    </tr>\n",
       "    <tr>\n",
       "      <th>1</th>\n",
       "      <td>-0.715576</td>\n",
       "      <td>0.467651</td>\n",
       "      <td>0.530396</td>\n",
       "      <td>0.244141</td>\n",
       "      <td>0.183105</td>\n",
       "      <td>0.000000</td>\n",
       "    </tr>\n",
       "    <tr>\n",
       "      <th>2</th>\n",
       "      <td>-0.717041</td>\n",
       "      <td>0.464111</td>\n",
       "      <td>0.527466</td>\n",
       "      <td>0.305176</td>\n",
       "      <td>0.427246</td>\n",
       "      <td>-0.122070</td>\n",
       "    </tr>\n",
       "    <tr>\n",
       "      <th>3</th>\n",
       "      <td>-0.718750</td>\n",
       "      <td>0.465820</td>\n",
       "      <td>0.527710</td>\n",
       "      <td>0.427246</td>\n",
       "      <td>0.610352</td>\n",
       "      <td>-0.183105</td>\n",
       "    </tr>\n",
       "    <tr>\n",
       "      <th>4</th>\n",
       "      <td>-0.721313</td>\n",
       "      <td>0.468262</td>\n",
       "      <td>0.528931</td>\n",
       "      <td>0.366211</td>\n",
       "      <td>0.671387</td>\n",
       "      <td>-0.183105</td>\n",
       "    </tr>\n",
       "    <tr>\n",
       "      <th>...</th>\n",
       "      <td>...</td>\n",
       "      <td>...</td>\n",
       "      <td>...</td>\n",
       "      <td>...</td>\n",
       "      <td>...</td>\n",
       "      <td>...</td>\n",
       "    </tr>\n",
       "    <tr>\n",
       "      <th>5529</th>\n",
       "      <td>-0.726807</td>\n",
       "      <td>0.467896</td>\n",
       "      <td>0.527832</td>\n",
       "      <td>0.122070</td>\n",
       "      <td>0.183105</td>\n",
       "      <td>0.305176</td>\n",
       "    </tr>\n",
       "    <tr>\n",
       "      <th>5530</th>\n",
       "      <td>-0.725830</td>\n",
       "      <td>0.468262</td>\n",
       "      <td>0.529297</td>\n",
       "      <td>0.183105</td>\n",
       "      <td>0.000000</td>\n",
       "      <td>0.610352</td>\n",
       "    </tr>\n",
       "    <tr>\n",
       "      <th>5531</th>\n",
       "      <td>-0.719116</td>\n",
       "      <td>0.466187</td>\n",
       "      <td>0.526367</td>\n",
       "      <td>0.122070</td>\n",
       "      <td>0.000000</td>\n",
       "      <td>0.732422</td>\n",
       "    </tr>\n",
       "    <tr>\n",
       "      <th>5532</th>\n",
       "      <td>-0.720215</td>\n",
       "      <td>0.466553</td>\n",
       "      <td>0.528076</td>\n",
       "      <td>0.061035</td>\n",
       "      <td>0.000000</td>\n",
       "      <td>0.793457</td>\n",
       "    </tr>\n",
       "    <tr>\n",
       "      <th>5533</th>\n",
       "      <td>-0.719971</td>\n",
       "      <td>0.467896</td>\n",
       "      <td>0.529663</td>\n",
       "      <td>0.061035</td>\n",
       "      <td>-0.061035</td>\n",
       "      <td>0.732422</td>\n",
       "    </tr>\n",
       "  </tbody>\n",
       "</table>\n",
       "<p>5534 rows × 6 columns</p>\n",
       "</div>"
      ],
      "text/plain": [
       "         acc_x     acc_y     acc_z     gyr_x     gyr_y     gry_z\n",
       "0    -0.712280  0.466064  0.531250  0.000000 -0.183105  0.671387\n",
       "1    -0.715576  0.467651  0.530396  0.244141  0.183105  0.000000\n",
       "2    -0.717041  0.464111  0.527466  0.305176  0.427246 -0.122070\n",
       "3    -0.718750  0.465820  0.527710  0.427246  0.610352 -0.183105\n",
       "4    -0.721313  0.468262  0.528931  0.366211  0.671387 -0.183105\n",
       "...        ...       ...       ...       ...       ...       ...\n",
       "5529 -0.726807  0.467896  0.527832  0.122070  0.183105  0.305176\n",
       "5530 -0.725830  0.468262  0.529297  0.183105  0.000000  0.610352\n",
       "5531 -0.719116  0.466187  0.526367  0.122070  0.000000  0.732422\n",
       "5532 -0.720215  0.466553  0.528076  0.061035  0.000000  0.793457\n",
       "5533 -0.719971  0.467896  0.529663  0.061035 -0.061035  0.732422\n",
       "\n",
       "[5534 rows x 6 columns]"
      ]
     },
     "execution_count": 19,
     "metadata": {},
     "output_type": "execute_result"
    }
   ],
   "source": [
    "df"
   ]
  },
  {
   "cell_type": "code",
   "execution_count": 20,
   "id": "78e7f7c1-9676-409e-a5f5-4b9f67da682d",
   "metadata": {},
   "outputs": [
    {
     "data": {
      "text/plain": [
       "12.668918918918918"
      ]
     },
     "execution_count": 20,
     "metadata": {},
     "output_type": "execute_result"
    }
   ],
   "source": [
    "1/((4736 / 60) / 1000)"
   ]
  },
  {
   "cell_type": "code",
   "execution_count": 21,
   "id": "2e56b147-da0c-4a57-86bd-d41d2010b4a6",
   "metadata": {},
   "outputs": [
    {
     "data": {
      "text/plain": [
       "10.84206722081677"
      ]
     },
     "execution_count": 21,
     "metadata": {},
     "output_type": "execute_result"
    }
   ],
   "source": [
    "1/((5534 / 60) / 1000)"
   ]
  },
  {
   "cell_type": "code",
   "execution_count": null,
   "id": "7a127006-30c2-4ded-b04c-bb2e2fdd76e6",
   "metadata": {},
   "outputs": [],
   "source": [
    "def crt_to_plr(xyz):\n",
    "    plr = np.zeros_like(xyz)\n",
    "    xy = xyz[:,0]**2 + xyz[:,1]**2\n",
    "    plr[:,0] = np.sqrt(xy + xyz[:,2]**2)\n",
    "    plr[:,1] = np.arctan2(xyz[:,1], xyz[:,0])\n",
    "    plr[:,2] = np.arctan2(np.sqrt(xy), xyz[:,2])\n",
    "    return plr"
   ]
  },
  {
   "cell_type": "code",
   "execution_count": null,
   "id": "4f4181a3-471f-48ca-adc5-bfb5a2528bb2",
   "metadata": {},
   "outputs": [],
   "source": [
    "def plr_to_crt(rtp):\n",
    "    crt = np.zeros_like(rtp)\n",
    "    crt[:,0] = rtp[:, 0] * np.cos(rtp[:, 1]) * np.sin(rtp[:, 2])\n",
    "    crt[:,1] = rtp[:, 0] * np.sin(rtp[:, 1]) * np.sin(rtp[:, 2])\n",
    "    crt[:,2] = rtp[:, 0] * np.cos(rtp[:, 2])\n",
    "    return crt"
   ]
  },
  {
   "cell_type": "code",
   "execution_count": null,
   "id": "af58d2cc-0111-4d3a-8721-47d76f431fee",
   "metadata": {},
   "outputs": [],
   "source": [
    "def sub_grav(xyz):\n",
    "    plr = crt_to_plr(xyz)\n",
    "    plr[:,0] = plr[:,0] - 1.0\n",
    "    return plr_to_crt(plr)"
   ]
  },
  {
   "cell_type": "code",
   "execution_count": 22,
   "id": "5471a69a-daca-4008-b1e2-493bf6165773",
   "metadata": {},
   "outputs": [],
   "source": [
    "df = pd.read_csv('test_data1.csv')"
   ]
  },
  {
   "cell_type": "code",
   "execution_count": null,
   "id": "1b759676-e0d9-42a5-bcf0-ed5b0596d9f3",
   "metadata": {},
   "outputs": [],
   "source": [
    "df[['adj_acc_x', 'adj_acc_y', 'adj_acc_z']] = sub_grav(df[['acc_x', 'acc_y', 'acc_z']].values)"
   ]
  },
  {
   "cell_type": "code",
   "execution_count": null,
   "id": "116d4896-89e9-4fb2-ab2a-48a9ac6c41eb",
   "metadata": {},
   "outputs": [],
   "source": [
    "df.to_csv('./test_data2.csv')"
   ]
  },
  {
   "cell_type": "code",
   "execution_count": null,
   "id": "e2a06219-35dd-4f6a-ab7a-862d61e70df4",
   "metadata": {},
   "outputs": [],
   "source": [
    "data = df[['adj_acc_x', 'adj_acc_y', 'adj_acc_z']].values"
   ]
  },
  {
   "cell_type": "code",
   "execution_count": null,
   "id": "05ac6281-f32e-4ae0-83b3-7edc8f58d68a",
   "metadata": {},
   "outputs": [],
   "source": [
    "vel = (data.cumsum(axis=-1) ** 2.0).sum(axis=-1) ** 0.2"
   ]
  },
  {
   "cell_type": "code",
   "execution_count": null,
   "id": "fd0219dc-2367-4442-82d1-f9553290874c",
   "metadata": {},
   "outputs": [],
   "source": [
    "fig, ax = plt.subplots()\n",
    "ax.plot(np.arange(0, len(vel) / 100, 0.01), vel)"
   ]
  },
  {
   "cell_type": "code",
   "execution_count": null,
   "id": "1e73b880-3078-4585-9c47-988f2a7026bf",
   "metadata": {},
   "outputs": [],
   "source": []
  },
  {
   "cell_type": "code",
   "execution_count": null,
   "id": "14992d95-0c76-46f6-ae19-2ec0ee701215",
   "metadata": {},
   "outputs": [],
   "source": []
  }
 ],
 "metadata": {
  "kernelspec": {
   "display_name": "Python 3 (ipykernel)",
   "language": "python",
   "name": "python3"
  },
  "language_info": {
   "codemirror_mode": {
    "name": "ipython",
    "version": 3
   },
   "file_extension": ".py",
   "mimetype": "text/x-python",
   "name": "python",
   "nbconvert_exporter": "python",
   "pygments_lexer": "ipython3",
   "version": "3.13.1"
  }
 },
 "nbformat": 4,
 "nbformat_minor": 5
}
